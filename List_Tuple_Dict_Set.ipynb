{
 "cells": [
  {
   "cell_type": "code",
   "execution_count": 69,
   "metadata": {},
   "outputs": [
    {
     "name": "stdout",
     "output_type": "stream",
     "text": [
      "('Date', 'Venue', 'Cost', ['67', 'Teban Garden'])\n",
      "{1, 2, 3, ('Date', 'Venue', 'Cost')}\n"
     ]
    }
   ],
   "source": [
    "my_list = ['67', 'GS Garden']\n",
    "\n",
    "my_tuple = ('Date', 'Venue', 'Cost', my_list)\n",
    "my_tuple2 = ('Date', 'Venue', 'Cost')\n",
    "\n",
    "my_set = set([1, 2, 3, my_tuple2])\n",
    "\n",
    "my_dict = {'GS': 95, 'CG': 75, 'XB': 85}\n",
    "\n",
    "\n",
    "\n",
    "print(my_tuple)\n",
    "print(my_set)"
   ]
  }
 ],
 "metadata": {
  "kernelspec": {
   "display_name": "Python 3",
   "language": "python",
   "name": "python3"
  },
  "language_info": {
   "codemirror_mode": {
    "name": "ipython",
    "version": 3
   },
   "file_extension": ".py",
   "mimetype": "text/x-python",
   "name": "python",
   "nbconvert_exporter": "python",
   "pygments_lexer": "ipython3",
   "version": "3.6.4"
  }
 },
 "nbformat": 4,
 "nbformat_minor": 2
}
